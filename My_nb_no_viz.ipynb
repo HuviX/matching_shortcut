{
 "cells": [
  {
   "cell_type": "code",
   "execution_count": 1,
   "metadata": {},
   "outputs": [],
   "source": [
    "mkdir data/A/ && cp -p data/image_pairs/*A.* data/A/"
   ]
  },
  {
   "cell_type": "code",
   "execution_count": 2,
   "metadata": {},
   "outputs": [],
   "source": [
    "mkdir data/B/ && cp -p data/image_pairs/*B.* data/B/"
   ]
  },
  {
   "cell_type": "code",
   "execution_count": 4,
   "metadata": {},
   "outputs": [
    {
     "name": "stdout",
     "output_type": "stream",
     "text": [
      "\u001b[0m\u001b[01;35m104B.jpg\u001b[0m  \u001b[01;35m154B.jpg\u001b[0m  \u001b[01;35m203B.jpg\u001b[0m  \u001b[01;35m272B.jpg\u001b[0m  \u001b[01;35m322B.jpg\u001b[0m  \u001b[01;35m403B.jpg\u001b[0m  \u001b[01;35m463B.jpg\u001b[0m  \u001b[01;35m76B.jpg\u001b[0m\r\n",
      "\u001b[01;35m111B.jpg\u001b[0m  \u001b[01;35m156B.jpg\u001b[0m  \u001b[01;35m217B.jpg\u001b[0m  \u001b[01;35m299B.jpg\u001b[0m  \u001b[01;35m32B.jpg\u001b[0m   \u001b[01;35m410B.jpg\u001b[0m  \u001b[01;35m466B.png\u001b[0m  \u001b[01;35m88B.jpg\u001b[0m\r\n",
      "\u001b[01;35m116B.jpg\u001b[0m  \u001b[01;35m160B.jpg\u001b[0m  \u001b[01;35m225B.jpg\u001b[0m  \u001b[01;35m305B.jpg\u001b[0m  \u001b[01;35m350B.jpg\u001b[0m  \u001b[01;35m414B.jpg\u001b[0m  \u001b[01;35m488B.jpg\u001b[0m  \u001b[01;35m95B.jpg\u001b[0m\r\n",
      "\u001b[01;35m118B.jpg\u001b[0m  \u001b[01;35m171B.jpg\u001b[0m  \u001b[01;35m239B.jpg\u001b[0m  \u001b[01;35m309B.png\u001b[0m  \u001b[01;35m368B.jpg\u001b[0m  \u001b[01;35m424B.jpg\u001b[0m  \u001b[01;35m49B.jpg\u001b[0m   \u001b[01;35m96B.jpg\u001b[0m\r\n",
      "\u001b[01;35m128B.jpg\u001b[0m  \u001b[01;35m178B.jpg\u001b[0m  \u001b[01;35m244B.jpg\u001b[0m  \u001b[01;35m30B.jpg\u001b[0m   \u001b[01;35m373B.jpg\u001b[0m  \u001b[01;35m425B.jpg\u001b[0m  \u001b[01;35m51B.jpg\u001b[0m   \u001b[01;35m9B.jpg\u001b[0m\r\n",
      "\u001b[01;35m133B.jpg\u001b[0m  \u001b[01;35m180B.jpg\u001b[0m  \u001b[01;35m261B.jpg\u001b[0m  \u001b[01;35m313B.jpg\u001b[0m  \u001b[01;35m377B.jpg\u001b[0m  \u001b[01;35m446B.jpg\u001b[0m  \u001b[01;35m55B.png\u001b[0m\r\n",
      "\u001b[01;35m143B.jpg\u001b[0m  \u001b[01;35m192B.jpg\u001b[0m  \u001b[01;35m263B.jpg\u001b[0m  \u001b[01;35m317B.jpg\u001b[0m  \u001b[01;35m383B.jpg\u001b[0m  \u001b[01;35m453B.jpg\u001b[0m  \u001b[01;35m72B.jpg\u001b[0m\r\n",
      "\u001b[01;35m148B.jpg\u001b[0m  \u001b[01;35m196B.jpg\u001b[0m  \u001b[01;35m267B.jpg\u001b[0m  \u001b[01;35m320B.jpg\u001b[0m  \u001b[01;35m3B.png\u001b[0m    \u001b[01;35m460B.jpg\u001b[0m  \u001b[01;35m75B.png\u001b[0m\r\n"
     ]
    }
   ],
   "source": [
    "ls data/B/"
   ]
  },
  {
   "cell_type": "code",
   "execution_count": 5,
   "metadata": {},
   "outputs": [
    {
     "name": "stdout",
     "output_type": "stream",
     "text": [
      "\u001b[0m\u001b[01;35m108A.jpg\u001b[0m  \u001b[01;35m195A.jpg\u001b[0m  \u001b[01;35m239A.jpg\u001b[0m  \u001b[01;35m276A.jpg\u001b[0m  \u001b[01;35m311A.jpg\u001b[0m  \u001b[01;35m416A.jpg\u001b[0m  \u001b[01;35m457A.jpg\u001b[0m  \u001b[01;35m73A.jpg\u001b[0m\r\n",
      "\u001b[01;35m114A.jpg\u001b[0m  \u001b[01;35m206A.jpg\u001b[0m  \u001b[01;35m242A.jpg\u001b[0m  \u001b[01;35m286A.jpg\u001b[0m  \u001b[01;35m331A.jpg\u001b[0m  \u001b[01;35m419A.jpg\u001b[0m  \u001b[01;35m466A.jpg\u001b[0m  \u001b[01;35m85A.jpg\u001b[0m\r\n",
      "\u001b[01;35m132A.jpg\u001b[0m  \u001b[01;35m208A.jpg\u001b[0m  \u001b[01;35m247A.jpg\u001b[0m  \u001b[01;35m295A.jpg\u001b[0m  \u001b[01;35m341A.jpg\u001b[0m  \u001b[01;35m420A.jpg\u001b[0m  \u001b[01;35m479A.jpg\u001b[0m  \u001b[01;35m96A.jpg\u001b[0m\r\n",
      "\u001b[01;35m135A.jpg\u001b[0m  \u001b[01;35m211A.jpg\u001b[0m  \u001b[01;35m250A.jpg\u001b[0m  \u001b[01;35m296A.jpg\u001b[0m  \u001b[01;35m356A.jpg\u001b[0m  \u001b[01;35m42A.jpg\u001b[0m   \u001b[01;35m480A.jpg\u001b[0m  \u001b[01;35m99A.jpg\u001b[0m\r\n",
      "\u001b[01;35m146A.jpg\u001b[0m  \u001b[01;35m212A.jpg\u001b[0m  \u001b[01;35m259A.jpg\u001b[0m  \u001b[01;35m299A.jpg\u001b[0m  \u001b[01;35m363A.jpg\u001b[0m  \u001b[01;35m433A.jpg\u001b[0m  \u001b[01;35m494A.jpg\u001b[0m\r\n",
      "\u001b[01;35m185A.jpg\u001b[0m  \u001b[01;35m218A.jpg\u001b[0m  \u001b[01;35m260A.jpg\u001b[0m  \u001b[01;35m29A.jpg\u001b[0m   \u001b[01;35m370A.jpg\u001b[0m  \u001b[01;35m447A.jpg\u001b[0m  \u001b[01;35m497A.jpg\u001b[0m\r\n",
      "\u001b[01;35m190A.jpg\u001b[0m  \u001b[01;35m226A.jpg\u001b[0m  \u001b[01;35m262A.jpg\u001b[0m  \u001b[01;35m2A.jpg\u001b[0m    \u001b[01;35m387A.jpg\u001b[0m  \u001b[01;35m451A.jpg\u001b[0m  \u001b[01;35m505A.jpg\u001b[0m\r\n",
      "\u001b[01;35m194A.jpg\u001b[0m  \u001b[01;35m235A.jpg\u001b[0m  \u001b[01;35m267A.jpg\u001b[0m  \u001b[01;35m304A.jpg\u001b[0m  \u001b[01;35m399A.jpg\u001b[0m  \u001b[01;35m456A.jpg\u001b[0m  \u001b[01;35m55A.jpg\u001b[0m\r\n"
     ]
    }
   ],
   "source": [
    "ls data/A/"
   ]
  },
  {
   "cell_type": "code",
   "execution_count": 6,
   "metadata": {},
   "outputs": [],
   "source": [
    "rm -r data/image_pairs"
   ]
  },
  {
   "cell_type": "code",
   "execution_count": 7,
   "metadata": {
    "scrolled": false
   },
   "outputs": [
    {
     "name": "stdout",
     "output_type": "stream",
     "text": [
      "\u001b[0m\u001b[01;34mA\u001b[0m/  \u001b[01;34mB\u001b[0m/\r\n"
     ]
    }
   ],
   "source": [
    "ls data/"
   ]
  },
  {
   "cell_type": "code",
   "execution_count": 1,
   "metadata": {},
   "outputs": [],
   "source": [
    "from matcher import BaseModel, Matcher\n",
    "from loader import NeighborLoader\n",
    "from os import listdir\n",
    "\n",
    "params = {'n_neighbors': 3,\n",
    "          'weights': 'distance'}\n",
    "\n",
    "#Создание алгоритма который будет делать вектор из изобржения\n",
    "vectorizer = BaseModel('resnet')\n",
    "answer_path = \"data/A/\"\n",
    "\n",
    "#Создание словарей, которые нужны для маппинга от класса к имени файла и наоборот.\n",
    "#Создание меток класса и преобразованных изображений.\n",
    "nl = NeighborLoader()\n",
    "imgs, labels = nl.load(answer_path)\n",
    "\n",
    "#Создание экземпляра класса Matcher, который принимает объекты созданные выше.\n",
    "matcher_model = Matcher(params, imgs, labels, vectorizer, nl)"
   ]
  },
  {
   "cell_type": "code",
   "execution_count": null,
   "metadata": {},
   "outputs": [],
   "source": [
    "def infer(model, path, tr, visualize=True):\n",
    "    result = {}\n",
    "    all_queries = listdir(path)\n",
    "    for img in all_queries:        \n",
    "        out = model.predict(path+img, tr, visualize)\n",
    "        result[img] = out\n",
    "    return result\n",
    "#Задние пути к запросов и границы для tr. Если сходство между векторами меньше чем tr, то считается\n",
    "#что фотографии не похожи.\n",
    "\n",
    "path = 'data/B/'\n",
    "for tr in [0.7, 0.8, 0.85, 0.9, 0.95]:\n",
    "    print(\"--\"*20)\n",
    "    print(tr)\n",
    "    _ = infer(matcher_model, path, tr)"
   ]
  },
  {
   "cell_type": "code",
   "execution_count": 2,
   "metadata": {},
   "outputs": [
    {
     "data": {
      "text/plain": [
       "<matplotlib.legend.Legend at 0x7f0c8249b3d0>"
      ]
     },
     "execution_count": 2,
     "metadata": {},
     "output_type": "execute_result"
    },
    {
     "data": {
      "image/png": "[encoded data removed]",
      "text/plain": [
       "<Figure size 432x288 with 1 Axes>"
      ]
     },
     "metadata": {
      "needs_background": "light"
     },
     "output_type": "display_data"
    }
   ],
   "source": [
    "\"\"\"Здесь я могу посчитать precision. Поскольку есть только True Positive и False Positive.\n",
    "Можно оценить Precision для разных значений tr и построить график. \n",
    "tr = {0.7, 0.8, 0.85., 0.9, 0.95}\n",
    "\"\"\"\n",
    "import numpy as np\n",
    "from matplotlib import pyplot as plt\n",
    "tr = np.array([0.7, 0.8, 0.85, 0.9, 0.95])\n",
    "ovr = np.array([85, 40, 18, 2, 0]) #FP + TP\n",
    "tp = np.array([8, 7, 6, 1, 0]) \n",
    "\n",
    "plt.plot(tr[:-1], tp[:-1]/ovr[:-1], label='precision curve')\n",
    "plt.xlabel(\"tr\")\n",
    "plt.ylabel(\"precision\")\n",
    "plt.legend()"
   ]
  },
  {
   "cell_type": "code",
   "execution_count": 5,
   "metadata": {},
   "outputs": [],
   "source": [
    "path = 'data/B/'\n",
    "tr = 0.85\n",
    "visualize=False\n",
    "res = infer(matcher_model, path, tr, visualize)"
   ]
  },
  {
   "cell_type": "code",
   "execution_count": 6,
   "metadata": {
    "scrolled": true
   },
   "outputs": [
    {
     "data": {
      "text/plain": [
       "[('424B.jpg', []),\n",
       " ('373B.jpg', []),\n",
       " ('160B.jpg', []),\n",
       " ('128B.jpg', []),\n",
       " ('9B.jpg', []),\n",
       " ('133B.jpg', []),\n",
       " ('460B.jpg', []),\n",
       " ('309B.png', ['206A.jpg']),\n",
       " ('30B.jpg', ['296A.jpg', '276A.jpg']),\n",
       " ('414B.jpg', [])]"
      ]
     },
     "execution_count": 6,
     "metadata": {},
     "output_type": "execute_result"
    }
   ],
   "source": [
    "list(res.items())[:10]"
   ]
  },
  {
   "cell_type": "code",
   "execution_count": null,
   "metadata": {},
   "outputs": [],
   "source": []
  }
 ],
 "metadata": {
  "kernelspec": {
   "display_name": "Python 3",
   "language": "python",
   "name": "python3"
  },
  "language_info": {
   "codemirror_mode": {
    "name": "ipython",
    "version": 3
   },
   "file_extension": ".py",
   "mimetype": "text/x-python",
   "name": "python",
   "nbconvert_exporter": "python",
   "pygments_lexer": "ipython3",
   "version": "3.7.9"
  }
 },
 "nbformat": 4,
 "nbformat_minor": 4
}
