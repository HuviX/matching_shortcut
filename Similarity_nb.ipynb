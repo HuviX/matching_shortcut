{
 "cells": [
  {
   "cell_type": "code",
   "execution_count": 1,
   "metadata": {},
   "outputs": [],
   "source": [
    "import torchvision\n",
    "from torchvision import transforms\n",
    "import torch\n",
    "from torch import nn\n",
    "from torch.nn import functional as F\n",
    "from efficientnet_pytorch import EfficientNet\n",
    "\n",
    "\n",
    "\n",
    "\n",
    "from scipy.spatial.distance import cosine as cos_dist\n",
    "from PIL import Image"
   ]
  },
  {
   "cell_type": "code",
   "execution_count": 2,
   "metadata": {},
   "outputs": [],
   "source": [
    "class SimilarityEstimator: #Using pretrained net to get image embeddings\n",
    "    def __init__(self, model='resnet'):\n",
    "        \n",
    "        if model == 'resnet':\n",
    "            self.key = 'avgpool'\n",
    "            self.model = torchvision.models.resnet34(pretrained=True)\n",
    "            #num_ftrs = model.fc.in_features\n",
    "            #self.model.fc = nn.Linear(num_ftrs, num_classes)\n",
    "            self.model.avgpool.register_forward_hook(self.__get_activation(self.key))\n",
    "        else:\n",
    "            self.key = '_avg_pooling'\n",
    "            self.model = EfficientNet.from_pretrained('efficientnet-b2')\n",
    "            self.model._avg_pooling.register_forward_hook(self.__get_activation(self.key))\n",
    "            \n",
    "        self.model.eval()\n",
    "    \n",
    "    \n",
    "    def __get_activation(self, name):\n",
    "        def hook(model, input, output):\n",
    "            self.activation[name] = output.detach()\n",
    "        return hook\n",
    "    \n",
    "    \n",
    "    def simmilarity(self, pair):\n",
    "        self.activation = {}\n",
    "        img1 = pair[0]\n",
    "        img2 = pair[1]\n",
    "        with torch.no_grad():\n",
    "            _ = self.model(img1.unsqueeze(0))\n",
    "            out1 = self.activation[self.key].squeeze().numpy()\n",
    "            _ = self.model(img2.unsqueeze(0))\n",
    "            out2 = self.activation[self.key].squeeze().numpy()\n",
    "\n",
    "        return 1 - cos_dist(out1, out2) # as distance in scipy is 1 - dot(a, b)/(norm(a) * norm(b))\n",
    "        \n",
    "    \n",
    "    @staticmethod    \n",
    "    def get_data_pair(paths):\n",
    "        data_transforms = transforms.Compose([\n",
    "        transforms.Resize((128, 128)),\n",
    "        transforms.ToTensor(),\n",
    "        transforms.Normalize(\n",
    "        [0.485, 0.456, 0.406], \n",
    "        [0.229, 0.224, 0.225]) \n",
    "    ])\n",
    "        img1 = Image.open(paths[0]).convert('RGB')\n",
    "        img2 = Image.open(paths[1]).convert('RGB')   \n",
    "        ret = (data_transforms(img1), data_transforms(img2))\n",
    "        return ret"
   ]
  },
  {
   "cell_type": "code",
   "execution_count": 3,
   "metadata": {
    "scrolled": false
   },
   "outputs": [
    {
     "name": "stdout",
     "output_type": "stream",
     "text": [
      "\u001b[0m\u001b[01;35mair_purifier.png\u001b[0m  \u001b[01;35miPhone2.png\u001b[0m  \u001b[01;35miPhone.png\u001b[0m\r\n"
     ]
    }
   ],
   "source": [
    "ls *.png"
   ]
  },
  {
   "cell_type": "code",
   "execution_count": 4,
   "metadata": {
    "scrolled": false
   },
   "outputs": [
    {
     "name": "stdout",
     "output_type": "stream",
     "text": [
      "0.8892881274223328 0.45980799198150635\n"
     ]
    }
   ],
   "source": [
    "sim_estimator = SimilarityEstimator('resnet')\n",
    "\n",
    "\n",
    "paths = ['iPhone2.png', 'iPhone.png']\n",
    "pair = SimilarityEstimator.get_data_pair(paths)\n",
    "sim1 = sim_estimator.simmilarity(pair)\n",
    "\n",
    "\n",
    "\n",
    "paths = ['iPhone2.png', 'air_purifier.png']\n",
    "pair = SimilarityEstimator.get_data_pair(paths)\n",
    "sim2 = sim_estimator.simmilarity(pair)\n",
    "\n",
    "print(sim1, sim2)"
   ]
  },
  {
   "cell_type": "code",
   "execution_count": 5,
   "metadata": {},
   "outputs": [
    {
     "name": "stdout",
     "output_type": "stream",
     "text": [
      "Loaded pretrained weights for efficientnet-b2\n",
      "0.7053554058074951 0.04367216303944588\n"
     ]
    }
   ],
   "source": [
    "sim_estimator = SimilarityEstimator('efficientnet')\n",
    "\n",
    "\n",
    "paths = ['iPhone2.png', 'iPhone.png']\n",
    "pair = SimilarityEstimator.get_data_pair(paths)\n",
    "sim1 = sim_estimator.simmilarity(pair)\n",
    "\n",
    "\n",
    "\n",
    "paths = ['iPhone2.png', 'air_purifier.png']\n",
    "pair = SimilarityEstimator.get_data_pair(paths)\n",
    "sim2 = sim_estimator.simmilarity(pair)\n",
    "\n",
    "print(sim1, sim2)"
   ]
  },
  {
   "cell_type": "code",
   "execution_count": 7,
   "metadata": {},
   "outputs": [],
   "source": [
    "## TO DO\n",
    "## Similarity based on product info (website description)"
   ]
  }
 ],
 "metadata": {
  "kernelspec": {
   "display_name": "Python 3",
   "language": "python",
   "name": "python3"
  },
  "language_info": {
   "codemirror_mode": {
    "name": "ipython",
    "version": 3
   },
   "file_extension": ".py",
   "mimetype": "text/x-python",
   "name": "python",
   "nbconvert_exporter": "python",
   "pygments_lexer": "ipython3",
   "version": "3.7.9"
  }
 },
 "nbformat": 4,
 "nbformat_minor": 4
}
